{
 "cells": [
  {
   "cell_type": "markdown",
   "metadata": {},
   "source": [
    "# 자료형의 참과 거짓\n",
    "- 문자열인 경우 \"\"안에 data가 있으면 참, 없으면 거짓\n",
    "- 리스트인 경우 [] ---\n",
    "- 튜플인 경우 () --- \n",
    "- 딕셔너리인 경우 {} ---\n",
    "- 숫자인 경우 0이면 거짓이고, 0이 아닌 숫자는 참"
   ]
  },
  {
   "cell_type": "code",
   "execution_count": 4,
   "metadata": {},
   "outputs": [
    {
     "data": {
      "text/plain": [
       "False"
      ]
     },
     "execution_count": 4,
     "metadata": {},
     "output_type": "execute_result"
    }
   ],
   "source": [
    "# 숫자의 참과 거짓 is\n",
    "var01 = 3\n",
    "var02 = 1\n",
    "var01 is var02"
   ]
  },
  {
   "cell_type": "code",
   "execution_count": 5,
   "metadata": {},
   "outputs": [
    {
     "data": {
      "text/plain": [
       "True"
      ]
     },
     "execution_count": 5,
     "metadata": {},
     "output_type": "execute_result"
    }
   ],
   "source": [
    "var01 = 1\n",
    "var02 = 1\n",
    "var01 is var02"
   ]
  },
  {
   "cell_type": "code",
   "execution_count": 8,
   "metadata": {},
   "outputs": [
    {
     "name": "stdout",
     "output_type": "stream",
     "text": [
      "1\n",
      "2\n"
     ]
    }
   ],
   "source": [
    "# Tuple을 이용한 변수 생성\n",
    "var01, var02 = 1,2\n",
    "print(var01)\n",
    "print(var02)"
   ]
  },
  {
   "cell_type": "code",
   "execution_count": 9,
   "metadata": {},
   "outputs": [
    {
     "name": "stdout",
     "output_type": "stream",
     "text": [
      "1\n",
      "lee\n"
     ]
    }
   ],
   "source": [
    "var01, var02 = 1, \"lee\"\n",
    "print(var01)\n",
    "print(var02)"
   ]
  },
  {
   "cell_type": "code",
   "execution_count": 10,
   "metadata": {},
   "outputs": [
    {
     "name": "stdout",
     "output_type": "stream",
     "text": [
      "Lee Lee\n"
     ]
    }
   ],
   "source": [
    "var01 = var02 = 'Lee'\n",
    "print(var01, var02)"
   ]
  },
  {
   "cell_type": "code",
   "execution_count": 11,
   "metadata": {},
   "outputs": [
    {
     "name": "stdout",
     "output_type": "stream",
     "text": [
      "5 3\n"
     ]
    }
   ],
   "source": [
    "# 튜플을 이용한 변수의 값 교환\n",
    "var01 = 3\n",
    "var02 = 5\n",
    "var01, var02 = var02, var01\n",
    "print(var01, var02)"
   ]
  },
  {
   "cell_type": "code",
   "execution_count": 16,
   "metadata": {},
   "outputs": [
    {
     "name": "stdout",
     "output_type": "stream",
     "text": [
      "[1, 4, 6]\n",
      "[1, 4, 6]\n"
     ]
    }
   ],
   "source": [
    "# 리스트의 복사\n",
    "\n",
    "#이렇게 복사할경우 원본이 바뀌게됨\n",
    "var01 = [1,2,3]\n",
    "var02= var01\n",
    "var01[1] = 4\n",
    "var02[2] = 6\n",
    "print(var01)\n",
    "print(var02)"
   ]
  },
  {
   "cell_type": "code",
   "execution_count": 17,
   "metadata": {},
   "outputs": [
    {
     "data": {
      "text/plain": [
       "True"
      ]
     },
     "execution_count": 17,
     "metadata": {},
     "output_type": "execute_result"
    }
   ],
   "source": [
    "var01 is var02"
   ]
  },
  {
   "cell_type": "code",
   "execution_count": 18,
   "metadata": {},
   "outputs": [
    {
     "name": "stdout",
     "output_type": "stream",
     "text": [
      "[1, 4, 3]\n",
      "[1, 2, 3]\n"
     ]
    }
   ],
   "source": [
    "# Slicing을 이용한 리스트 복사\n",
    "\n",
    "# 원본을 유지한채로 복사\n",
    "var01 = [1,2,3]\n",
    "var02 = var01[:]\n",
    "var01[1] = 4\n",
    "print(var01)\n",
    "print(var02)"
   ]
  },
  {
   "cell_type": "code",
   "execution_count": 19,
   "metadata": {},
   "outputs": [
    {
     "data": {
      "text/plain": [
       "False"
      ]
     },
     "execution_count": 19,
     "metadata": {},
     "output_type": "execute_result"
    }
   ],
   "source": [
    "var01 is var02"
   ]
  },
  {
   "cell_type": "code",
   "execution_count": 20,
   "metadata": {},
   "outputs": [],
   "source": [
    "# Module을 이용한 리스트의 복사\n",
    "\n",
    "# 원본을 유지한채로 복사\n",
    "from copy import copy "
   ]
  },
  {
   "cell_type": "code",
   "execution_count": 21,
   "metadata": {},
   "outputs": [
    {
     "name": "stdout",
     "output_type": "stream",
     "text": [
      "[1, 4, 3]\n",
      "[1, 2, 3]\n"
     ]
    }
   ],
   "source": [
    "var01 = [1,2,3]\n",
    "var02 = copy(var01)\n",
    "var01[1] = 4\n",
    "print(var01)\n",
    "print(var02)"
   ]
  },
  {
   "cell_type": "code",
   "execution_count": 22,
   "metadata": {},
   "outputs": [
    {
     "data": {
      "text/plain": [
       "False"
      ]
     },
     "execution_count": 22,
     "metadata": {},
     "output_type": "execute_result"
    }
   ],
   "source": [
    "var01 is var02"
   ]
  },
  {
   "cell_type": "code",
   "execution_count": null,
   "metadata": {},
   "outputs": [],
   "source": []
  }
 ],
 "metadata": {
  "kernelspec": {
   "display_name": "Python 3",
   "language": "python",
   "name": "python3"
  },
  "language_info": {
   "codemirror_mode": {
    "name": "ipython",
    "version": 3
   },
   "file_extension": ".py",
   "mimetype": "text/x-python",
   "name": "python",
   "nbconvert_exporter": "python",
   "pygments_lexer": "ipython3",
   "version": "3.8.5"
  }
 },
 "nbformat": 4,
 "nbformat_minor": 4
}
