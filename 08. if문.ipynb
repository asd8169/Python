{
 "cells": [
  {
   "cell_type": "raw",
   "metadata": {},
   "source": [
    "if 조건:\n",
    "    문장1\n",
    "    문장2\n",
    "--------------------\n",
    "if 조건:\n",
    "    문장1\n",
    "else:\n",
    "    문장2\n",
    "-------------------\n",
    "if 조건:\n",
    "    문장1\n",
    "elif 조건:\n",
    "    문장2\n",
    "else: \n",
    "    문장3"
   ]
  },
  {
   "cell_type": "code",
   "execution_count": null,
   "metadata": {},
   "outputs": [],
   "source": [
    "# 난수 불러오기\n",
    "from random import randint"
   ]
  },
  {
   "cell_type": "code",
   "execution_count": 3,
   "metadata": {},
   "outputs": [
    {
     "data": {
      "text/plain": [
       "54"
      ]
     },
     "execution_count": 3,
     "metadata": {},
     "output_type": "execute_result"
    }
   ],
   "source": [
    "randint(1, 100)"
   ]
  },
  {
   "cell_type": "code",
   "execution_count": 10,
   "metadata": {},
   "outputs": [
    {
     "name": "stdout",
     "output_type": "stream",
     "text": [
      "x is greater than 50\n",
      "------- end -------- \n"
     ]
    }
   ],
   "source": [
    "x = randint(1, 100)\n",
    "\n",
    "if x > 50: \n",
    "    print(\"x is greater than 50\")\n",
    "    \n",
    "print(\"------- end -------- \")    "
   ]
  },
  {
   "cell_type": "code",
   "execution_count": 13,
   "metadata": {},
   "outputs": [
    {
     "name": "stdout",
     "output_type": "stream",
     "text": [
      "x is greater than 50\n",
      "------- end -------- \n"
     ]
    }
   ],
   "source": [
    "x = randint(1, 100)\n",
    "\n",
    "if x > 50: \n",
    "    print(\"x is greater than 50\")\n",
    "else:\n",
    "    print(\"x is less or equal to 50\")\n",
    "    \n",
    "print(\"------- end -------- \") "
   ]
  },
  {
   "cell_type": "code",
   "execution_count": 15,
   "metadata": {},
   "outputs": [
    {
     "name": "stdout",
     "output_type": "stream",
     "text": [
      "숫자를 입력하세요!12\n"
     ]
    },
    {
     "data": {
      "text/plain": [
       "12"
      ]
     },
     "execution_count": 15,
     "metadata": {},
     "output_type": "execute_result"
    }
   ],
   "source": [
    "# 사용자로부터 숫자 입력 받기 int해주면 숫자로 바뀜 \n",
    "int(input(\"숫자를 입력하세요!\"))"
   ]
  },
  {
   "cell_type": "code",
   "execution_count": 22,
   "metadata": {},
   "outputs": [
    {
     "name": "stdout",
     "output_type": "stream",
     "text": [
      "숫자를 입력하세요!3\n",
      "홀수입니다\n"
     ]
    }
   ],
   "source": [
    "# 사용자로부터 숫자를 입력받아 홀수 인지 짝수 인지 구분하기\n",
    "\n",
    "number = int(input(\"숫자를 입력하세요!\"))\n",
    "\n",
    "if (number % 2 == 1):\n",
    "    print(\"홀수입니다\")\n",
    "else:\n",
    "    print(\"짝수입니다\")"
   ]
  },
  {
   "cell_type": "code",
   "execution_count": 40,
   "metadata": {},
   "outputs": [
    {
     "name": "stdout",
     "output_type": "stream",
     "text": [
      "점수를 입력하세요!123\n",
      "B학점입니다.\n"
     ]
    }
   ],
   "source": [
    "# 사용자로부터 점수를 입력받아 학점 계산하기\n",
    "\n",
    "score = int(input(\"점수를 입력하세요!\"))\n",
    "\n",
    "if score<=100 & score>=90:\n",
    "    print(\"A학점입니다.\")\n",
    "    \n",
    "elif score>=80:\n",
    "    print(\"B학점입니다.\")\n",
    "    \n",
    "elif score>=70:\n",
    "    print(\"C학점입니다.\")\n",
    "\n",
    "elif score>=60:\n",
    "    print(\"D학점입니다.\")\n",
    "\n",
    "else :\n",
    "    print(\"F학점입니다.\")\n",
    "\n"
   ]
  },
  {
   "cell_type": "code",
   "execution_count": 45,
   "metadata": {},
   "outputs": [
    {
     "name": "stdout",
     "output_type": "stream",
     "text": [
      "숫자를 입력하세요!5\n",
      "2.23606797749979\n"
     ]
    }
   ],
   "source": [
    "# 사용자로부터 숫자를 입력받아 5의 배수이면 제곱근을 구하고 그렇지 않으면 원래수 출력하기\n",
    "\n",
    "number = int(input(\"숫자를 입력하세요!\"))\n",
    "\n",
    "import math\n",
    "\n",
    "if (number % 5 == 0):\n",
    "    print(math.sqrt(number))\n",
    "else:\n",
    "    print(number)"
   ]
  },
  {
   "cell_type": "code",
   "execution_count": 50,
   "metadata": {},
   "outputs": [
    {
     "name": "stdout",
     "output_type": "stream",
     "text": [
      "신용카드로 택시 타기\n",
      "----- end -----\n"
     ]
    }
   ],
   "source": [
    "# list의 내용을 if문으로 확인하기\n",
    "\n",
    "pocket = ['paper', 'smartphone']\n",
    "card = 1\n",
    "\n",
    "# in은 물어보는 아이\n",
    "\n",
    "if 'money' in pocket:\n",
    "    print(\"현금으로 택시 타기\")\n",
    "elif card:\n",
    "    print(\"신용카드로 택시 타기\")\n",
    "else:\n",
    "    print(\"튼튼한 다리를 사용!\")\n",
    "    \n",
    "print('----- end -----')"
   ]
  },
  {
   "cell_type": "code",
   "execution_count": null,
   "metadata": {},
   "outputs": [],
   "source": []
  }
 ],
 "metadata": {
  "kernelspec": {
   "display_name": "Python 3",
   "language": "python",
   "name": "python3"
  },
  "language_info": {
   "codemirror_mode": {
    "name": "ipython",
    "version": 3
   },
   "file_extension": ".py",
   "mimetype": "text/x-python",
   "name": "python",
   "nbconvert_exporter": "python",
   "pygments_lexer": "ipython3",
   "version": "3.8.5"
  }
 },
 "nbformat": 4,
 "nbformat_minor": 4
}
